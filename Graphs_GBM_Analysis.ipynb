{
 "cells": [
  {
   "cell_type": "code",
   "execution_count": 27,
   "metadata": {},
   "outputs": [],
   "source": [
    "import pandas as pd \n",
    "from pandas import DataFrame, Series\n",
    "import sqlite3\n"
   ]
  },
  {
   "cell_type": "code",
   "execution_count": 71,
   "metadata": {},
   "outputs": [],
   "source": [
    "result = pd.read_csv(\"result.csv\")\n",
    "train = pd.read_csv(\"train.csv\")\n",
    "conn = sqlite3.connect('result.db')\n",
    "result.to_sql(\"result\", conn, if_exists=\"replace\", index=False)\n",
    "train.to_sql(\"train\", conn,if_exists=\"replace\", index=False )"
   ]
  },
  {
   "cell_type": "code",
   "execution_count": 30,
   "metadata": {},
   "outputs": [],
   "source": [
    "def query(QUERRY):  #Will be using ths for generating queries\n",
    "    return pd.read_sql(QUERRY, conn)"
   ]
  },
  {
   "cell_type": "code",
   "execution_count": 138,
   "metadata": {},
   "outputs": [
    {
     "data": {
      "text/html": [
       "<div>\n",
       "<style scoped>\n",
       "    .dataframe tbody tr th:only-of-type {\n",
       "        vertical-align: middle;\n",
       "    }\n",
       "\n",
       "    .dataframe tbody tr th {\n",
       "        vertical-align: top;\n",
       "    }\n",
       "\n",
       "    .dataframe thead th {\n",
       "        text-align: right;\n",
       "    }\n",
       "</style>\n",
       "<table border=\"1\" class=\"dataframe\">\n",
       "  <thead>\n",
       "    <tr style=\"text-align: right;\">\n",
       "      <th></th>\n",
       "      <th>Unnamed: 0</th>\n",
       "      <th>I.am.currently.employed.at.least.part.time</th>\n",
       "      <th>I.identify.as.having.a.mental.illness</th>\n",
       "      <th>Education</th>\n",
       "      <th>I.have.my.own.computer.separate.from.a.smart.phone</th>\n",
       "      <th>I.have.been.hospitalized.before.for.my.mental.illness</th>\n",
       "      <th>How.many.days.were.you.hospitalized.for.your.mental.illness</th>\n",
       "      <th>I.am.legally.disabled</th>\n",
       "      <th>I.have.my.regular.access.to.the.internet</th>\n",
       "      <th>I.live.with.my.parents</th>\n",
       "      <th>...</th>\n",
       "      <th>Obsessive.thinking</th>\n",
       "      <th>Mood.swings</th>\n",
       "      <th>Panic.attacks</th>\n",
       "      <th>Compulsive.behavior</th>\n",
       "      <th>Tiredness</th>\n",
       "      <th>Age</th>\n",
       "      <th>Gender</th>\n",
       "      <th>Household.Income</th>\n",
       "      <th>Region</th>\n",
       "      <th>Device.Type</th>\n",
       "    </tr>\n",
       "  </thead>\n",
       "  <tbody>\n",
       "    <tr>\n",
       "      <th>0</th>\n",
       "      <td>1</td>\n",
       "      <td>0</td>\n",
       "      <td>0</td>\n",
       "      <td>High School or GED</td>\n",
       "      <td>0</td>\n",
       "      <td>0</td>\n",
       "      <td>0</td>\n",
       "      <td>0</td>\n",
       "      <td>1</td>\n",
       "      <td>0</td>\n",
       "      <td>...</td>\n",
       "      <td>1</td>\n",
       "      <td>0</td>\n",
       "      <td>1</td>\n",
       "      <td>0</td>\n",
       "      <td>0</td>\n",
       "      <td>30-44</td>\n",
       "      <td>Male</td>\n",
       "      <td>$25,000-$49,999</td>\n",
       "      <td>Mountain</td>\n",
       "      <td>Android Phone / Tablet</td>\n",
       "    </tr>\n",
       "    <tr>\n",
       "      <th>1</th>\n",
       "      <td>2</td>\n",
       "      <td>1</td>\n",
       "      <td>1</td>\n",
       "      <td>Some Phd</td>\n",
       "      <td>1</td>\n",
       "      <td>0</td>\n",
       "      <td>0</td>\n",
       "      <td>0</td>\n",
       "      <td>1</td>\n",
       "      <td>0</td>\n",
       "      <td>...</td>\n",
       "      <td>0</td>\n",
       "      <td>0</td>\n",
       "      <td>1</td>\n",
       "      <td>0</td>\n",
       "      <td>1</td>\n",
       "      <td>18-29</td>\n",
       "      <td>Male</td>\n",
       "      <td>$50,000-$74,999</td>\n",
       "      <td>East South Central</td>\n",
       "      <td>MacOS Desktop / Laptop</td>\n",
       "    </tr>\n",
       "    <tr>\n",
       "      <th>2</th>\n",
       "      <td>3</td>\n",
       "      <td>1</td>\n",
       "      <td>0</td>\n",
       "      <td>Completed Undergraduate</td>\n",
       "      <td>1</td>\n",
       "      <td>0</td>\n",
       "      <td>0</td>\n",
       "      <td>0</td>\n",
       "      <td>1</td>\n",
       "      <td>0</td>\n",
       "      <td>...</td>\n",
       "      <td>0</td>\n",
       "      <td>0</td>\n",
       "      <td>0</td>\n",
       "      <td>0</td>\n",
       "      <td>0</td>\n",
       "      <td>30-44</td>\n",
       "      <td>Male</td>\n",
       "      <td>$150,000-$174,999</td>\n",
       "      <td>Pacific</td>\n",
       "      <td>MacOS Desktop / Laptop</td>\n",
       "    </tr>\n",
       "    <tr>\n",
       "      <th>3</th>\n",
       "      <td>4</td>\n",
       "      <td>1</td>\n",
       "      <td>0</td>\n",
       "      <td>High School or GED</td>\n",
       "      <td>1</td>\n",
       "      <td>0</td>\n",
       "      <td>0</td>\n",
       "      <td>0</td>\n",
       "      <td>1</td>\n",
       "      <td>1</td>\n",
       "      <td>...</td>\n",
       "      <td>0</td>\n",
       "      <td>0</td>\n",
       "      <td>0</td>\n",
       "      <td>0</td>\n",
       "      <td>0</td>\n",
       "      <td>30-44</td>\n",
       "      <td>Male</td>\n",
       "      <td>$0-$9,999</td>\n",
       "      <td>South Atlantic</td>\n",
       "      <td>Android Phone / Tablet</td>\n",
       "    </tr>\n",
       "    <tr>\n",
       "      <th>4</th>\n",
       "      <td>5</td>\n",
       "      <td>1</td>\n",
       "      <td>0</td>\n",
       "      <td>Some Undergraduate</td>\n",
       "      <td>1</td>\n",
       "      <td>0</td>\n",
       "      <td>0</td>\n",
       "      <td>0</td>\n",
       "      <td>1</td>\n",
       "      <td>0</td>\n",
       "      <td>...</td>\n",
       "      <td>0</td>\n",
       "      <td>0</td>\n",
       "      <td>0</td>\n",
       "      <td>0</td>\n",
       "      <td>0</td>\n",
       "      <td>18-29</td>\n",
       "      <td>Male</td>\n",
       "      <td>$100,000-$124,999</td>\n",
       "      <td>Middle Atlantic</td>\n",
       "      <td>Windows Desktop / Laptop</td>\n",
       "    </tr>\n",
       "    <tr>\n",
       "      <th>...</th>\n",
       "      <td>...</td>\n",
       "      <td>...</td>\n",
       "      <td>...</td>\n",
       "      <td>...</td>\n",
       "      <td>...</td>\n",
       "      <td>...</td>\n",
       "      <td>...</td>\n",
       "      <td>...</td>\n",
       "      <td>...</td>\n",
       "      <td>...</td>\n",
       "      <td>...</td>\n",
       "      <td>...</td>\n",
       "      <td>...</td>\n",
       "      <td>...</td>\n",
       "      <td>...</td>\n",
       "      <td>...</td>\n",
       "      <td>...</td>\n",
       "      <td>...</td>\n",
       "      <td>...</td>\n",
       "      <td>...</td>\n",
       "      <td>...</td>\n",
       "    </tr>\n",
       "    <tr>\n",
       "      <th>237</th>\n",
       "      <td>238</td>\n",
       "      <td>1</td>\n",
       "      <td>0</td>\n",
       "      <td>Completed Undergraduate</td>\n",
       "      <td>1</td>\n",
       "      <td>0</td>\n",
       "      <td>0</td>\n",
       "      <td>0</td>\n",
       "      <td>1</td>\n",
       "      <td>0</td>\n",
       "      <td>...</td>\n",
       "      <td>0</td>\n",
       "      <td>0</td>\n",
       "      <td>0</td>\n",
       "      <td>0</td>\n",
       "      <td>0</td>\n",
       "      <td>45-60</td>\n",
       "      <td>Female</td>\n",
       "      <td>$75,000-$99,999</td>\n",
       "      <td>East North Central</td>\n",
       "      <td>Android Phone / Tablet</td>\n",
       "    </tr>\n",
       "    <tr>\n",
       "      <th>238</th>\n",
       "      <td>239</td>\n",
       "      <td>0</td>\n",
       "      <td>1</td>\n",
       "      <td>Completed Undergraduate</td>\n",
       "      <td>0</td>\n",
       "      <td>0</td>\n",
       "      <td>0</td>\n",
       "      <td>0</td>\n",
       "      <td>1</td>\n",
       "      <td>0</td>\n",
       "      <td>...</td>\n",
       "      <td>0</td>\n",
       "      <td>0</td>\n",
       "      <td>0</td>\n",
       "      <td>0</td>\n",
       "      <td>0</td>\n",
       "      <td>18-29</td>\n",
       "      <td>Female</td>\n",
       "      <td>$50,000-$74,999</td>\n",
       "      <td>Mountain</td>\n",
       "      <td>iOS Phone / Tablet</td>\n",
       "    </tr>\n",
       "    <tr>\n",
       "      <th>239</th>\n",
       "      <td>240</td>\n",
       "      <td>1</td>\n",
       "      <td>0</td>\n",
       "      <td>Some Undergraduate</td>\n",
       "      <td>1</td>\n",
       "      <td>0</td>\n",
       "      <td>0</td>\n",
       "      <td>0</td>\n",
       "      <td>1</td>\n",
       "      <td>1</td>\n",
       "      <td>...</td>\n",
       "      <td>0</td>\n",
       "      <td>0</td>\n",
       "      <td>0</td>\n",
       "      <td>0</td>\n",
       "      <td>0</td>\n",
       "      <td>18-29</td>\n",
       "      <td>Male</td>\n",
       "      <td>$50,000-$74,999</td>\n",
       "      <td>Pacific</td>\n",
       "      <td>Windows Desktop / Laptop</td>\n",
       "    </tr>\n",
       "    <tr>\n",
       "      <th>240</th>\n",
       "      <td>241</td>\n",
       "      <td>1</td>\n",
       "      <td>0</td>\n",
       "      <td>Some Undergraduate</td>\n",
       "      <td>1</td>\n",
       "      <td>0</td>\n",
       "      <td>0</td>\n",
       "      <td>0</td>\n",
       "      <td>1</td>\n",
       "      <td>0</td>\n",
       "      <td>...</td>\n",
       "      <td>0</td>\n",
       "      <td>0</td>\n",
       "      <td>0</td>\n",
       "      <td>0</td>\n",
       "      <td>0</td>\n",
       "      <td>&gt; 60</td>\n",
       "      <td>Female</td>\n",
       "      <td>$10,000-$24,999</td>\n",
       "      <td>West North Central</td>\n",
       "      <td>Windows Desktop / Laptop</td>\n",
       "    </tr>\n",
       "    <tr>\n",
       "      <th>241</th>\n",
       "      <td>242</td>\n",
       "      <td>0</td>\n",
       "      <td>1</td>\n",
       "      <td>Some Undergraduate</td>\n",
       "      <td>0</td>\n",
       "      <td>1</td>\n",
       "      <td>1</td>\n",
       "      <td>1</td>\n",
       "      <td>1</td>\n",
       "      <td>1</td>\n",
       "      <td>...</td>\n",
       "      <td>1</td>\n",
       "      <td>1</td>\n",
       "      <td>1</td>\n",
       "      <td>1</td>\n",
       "      <td>1</td>\n",
       "      <td>18-29</td>\n",
       "      <td>Female</td>\n",
       "      <td>$0-$9,999</td>\n",
       "      <td>West South Central</td>\n",
       "      <td>Android Phone / Tablet</td>\n",
       "    </tr>\n",
       "  </tbody>\n",
       "</table>\n",
       "<p>242 rows × 32 columns</p>\n",
       "</div>"
      ],
      "text/plain": [
       "     Unnamed: 0  I.am.currently.employed.at.least.part.time  \\\n",
       "0             1                                           0   \n",
       "1             2                                           1   \n",
       "2             3                                           1   \n",
       "3             4                                           1   \n",
       "4             5                                           1   \n",
       "..          ...                                         ...   \n",
       "237         238                                           1   \n",
       "238         239                                           0   \n",
       "239         240                                           1   \n",
       "240         241                                           1   \n",
       "241         242                                           0   \n",
       "\n",
       "     I.identify.as.having.a.mental.illness                Education  \\\n",
       "0                                        0       High School or GED   \n",
       "1                                        1                 Some Phd   \n",
       "2                                        0  Completed Undergraduate   \n",
       "3                                        0       High School or GED   \n",
       "4                                        0       Some Undergraduate   \n",
       "..                                     ...                      ...   \n",
       "237                                      0  Completed Undergraduate   \n",
       "238                                      1  Completed Undergraduate   \n",
       "239                                      0       Some Undergraduate   \n",
       "240                                      0       Some Undergraduate   \n",
       "241                                      1       Some Undergraduate   \n",
       "\n",
       "     I.have.my.own.computer.separate.from.a.smart.phone  \\\n",
       "0                                                    0    \n",
       "1                                                    1    \n",
       "2                                                    1    \n",
       "3                                                    1    \n",
       "4                                                    1    \n",
       "..                                                 ...    \n",
       "237                                                  1    \n",
       "238                                                  0    \n",
       "239                                                  1    \n",
       "240                                                  1    \n",
       "241                                                  0    \n",
       "\n",
       "     I.have.been.hospitalized.before.for.my.mental.illness  \\\n",
       "0                                                    0       \n",
       "1                                                    0       \n",
       "2                                                    0       \n",
       "3                                                    0       \n",
       "4                                                    0       \n",
       "..                                                 ...       \n",
       "237                                                  0       \n",
       "238                                                  0       \n",
       "239                                                  0       \n",
       "240                                                  0       \n",
       "241                                                  1       \n",
       "\n",
       "     How.many.days.were.you.hospitalized.for.your.mental.illness  \\\n",
       "0                                                    0             \n",
       "1                                                    0             \n",
       "2                                                    0             \n",
       "3                                                    0             \n",
       "4                                                    0             \n",
       "..                                                 ...             \n",
       "237                                                  0             \n",
       "238                                                  0             \n",
       "239                                                  0             \n",
       "240                                                  0             \n",
       "241                                                  1             \n",
       "\n",
       "     I.am.legally.disabled  I.have.my.regular.access.to.the.internet  \\\n",
       "0                        0                                         1   \n",
       "1                        0                                         1   \n",
       "2                        0                                         1   \n",
       "3                        0                                         1   \n",
       "4                        0                                         1   \n",
       "..                     ...                                       ...   \n",
       "237                      0                                         1   \n",
       "238                      0                                         1   \n",
       "239                      0                                         1   \n",
       "240                      0                                         1   \n",
       "241                      1                                         1   \n",
       "\n",
       "     I.live.with.my.parents  ...  Obsessive.thinking  Mood.swings  \\\n",
       "0                         0  ...                   1            0   \n",
       "1                         0  ...                   0            0   \n",
       "2                         0  ...                   0            0   \n",
       "3                         1  ...                   0            0   \n",
       "4                         0  ...                   0            0   \n",
       "..                      ...  ...                 ...          ...   \n",
       "237                       0  ...                   0            0   \n",
       "238                       0  ...                   0            0   \n",
       "239                       1  ...                   0            0   \n",
       "240                       0  ...                   0            0   \n",
       "241                       1  ...                   1            1   \n",
       "\n",
       "     Panic.attacks  Compulsive.behavior  Tiredness    Age  Gender  \\\n",
       "0                1                    0          0  30-44    Male   \n",
       "1                1                    0          1  18-29    Male   \n",
       "2                0                    0          0  30-44    Male   \n",
       "3                0                    0          0  30-44    Male   \n",
       "4                0                    0          0  18-29    Male   \n",
       "..             ...                  ...        ...    ...     ...   \n",
       "237              0                    0          0  45-60  Female   \n",
       "238              0                    0          0  18-29  Female   \n",
       "239              0                    0          0  18-29    Male   \n",
       "240              0                    0          0   > 60  Female   \n",
       "241              1                    1          1  18-29  Female   \n",
       "\n",
       "      Household.Income              Region               Device.Type  \n",
       "0      $25,000-$49,999            Mountain    Android Phone / Tablet  \n",
       "1      $50,000-$74,999  East South Central    MacOS Desktop / Laptop  \n",
       "2    $150,000-$174,999             Pacific    MacOS Desktop / Laptop  \n",
       "3            $0-$9,999      South Atlantic    Android Phone / Tablet  \n",
       "4    $100,000-$124,999     Middle Atlantic  Windows Desktop / Laptop  \n",
       "..                 ...                 ...                       ...  \n",
       "237    $75,000-$99,999  East North Central    Android Phone / Tablet  \n",
       "238    $50,000-$74,999            Mountain        iOS Phone / Tablet  \n",
       "239    $50,000-$74,999             Pacific  Windows Desktop / Laptop  \n",
       "240    $10,000-$24,999  West North Central  Windows Desktop / Laptop  \n",
       "241          $0-$9,999  West South Central    Android Phone / Tablet  \n",
       "\n",
       "[242 rows x 32 columns]"
      ]
     },
     "execution_count": 138,
     "metadata": {},
     "output_type": "execute_result"
    }
   ],
   "source": [
    "\n",
    "result3 = query(\"\"\"\n",
    "select `Education` from result\n",
    "group by `Education`\n",
    "\"\"\")\n",
    "result4 = query(\"\"\"\n",
    "select Education, count(predict) as `count` from result\n",
    "where predict = 0\n",
    "group by Education\n",
    "\"\"\")\n",
    "result5 = query(\"\"\"\n",
    "select Education, count(predict) as `count` from result\n",
    "where predict = 1\n",
    "group by Education\n",
    "\"\"\")\n",
    "query(\"select * from train\")"
   ]
  },
  {
   "cell_type": "code",
   "execution_count": 112,
   "metadata": {},
   "outputs": [
    {
     "data": {
      "text/plain": [
       "Text(0.5, 0, 'Count')"
      ]
     },
     "execution_count": 112,
     "metadata": {},
     "output_type": "execute_result"
    },
    {
     "data": {
      "image/png": "[encoded data removed]",
      "text/plain": [
       "<Figure size 432x288 with 1 Axes>"
      ]
     },
     "metadata": {
      "needs_background": "light"
     },
     "output_type": "display_data"
    }
   ],
   "source": [
    "education = DataFrame({'Education':result3['Education'],'Depressed': result5['count'],'Not_Depressed': result4['count']})\n",
    "education = education[0:3]\n",
    "education = education.set_index(\"Education\")\n",
    "graph = education.plot.barh(stacked = True)\n",
    "graph.set_xlabel(\"Count\")"
   ]
  },
  {
   "cell_type": "code",
   "execution_count": 99,
   "metadata": {
    "scrolled": true
   },
   "outputs": [
    {
     "data": {
      "text/plain": [
       "<AxesSubplot:ylabel='Education'>"
      ]
     },
     "execution_count": 99,
     "metadata": {},
     "output_type": "execute_result"
    },
    {
     "data": {
      "image/png": "[encoded data removed]",
      "text/plain": [
       "<Figure size 432x288 with 1 Axes>"
      ]
     },
     "metadata": {
      "needs_background": "light"
     },
     "output_type": "display_data"
    }
   ],
   "source": [
    "result6 =  query(\"\"\"\n",
    "select Education, count(Depression) as `count` from train\n",
    "where Depression = 0\n",
    "group by Education\n",
    "\"\"\")\n",
    "result7 =  query(\"\"\"\n",
    "select Education, count(Depression) as `count` from train\n",
    "where Depression = 1\n",
    "group by Education\n",
    "\"\"\")\n",
    "education2 = DataFrame({'Education':result3['Education'], 'Depressed': result7['count']})\n",
    "education2 = education2.set_index(education2['Education'])\n",
    "education2 = education2[0:7]\n",
    "education2.plot.barh(color = \"orange\")\n"
   ]
  },
  {
   "cell_type": "code",
   "execution_count": 121,
   "metadata": {},
   "outputs": [
    {
     "data": {
      "text/plain": [
       "<AxesSubplot:ylabel='Age'>"
      ]
     },
     "execution_count": 121,
     "metadata": {},
     "output_type": "execute_result"
    },
    {
     "data": {
      "image/png": "[encoded data removed]",
      "text/plain": [
       "<Figure size 432x288 with 1 Axes>"
      ]
     },
     "metadata": {
      "needs_background": "light"
     },
     "output_type": "display_data"
    }
   ],
   "source": [
    "result7 = query(\"\"\"\n",
    "select `Age`, count(Depression) from train\n",
    "where Depression = 1\n",
    "group by `Age`\n",
    "\"\"\")\n",
    "result7 = result7.set_index(result7['Age'])\n",
    "result7.plot.barh()"
   ]
  },
  {
   "cell_type": "code",
   "execution_count": 124,
   "metadata": {},
   "outputs": [
    {
     "data": {
      "text/plain": [
       "Text(0.5, 0, 'Count')"
      ]
     },
     "execution_count": 124,
     "metadata": {},
     "output_type": "execute_result"
    },
    {
     "data": {
      "image/png": "[encoded data removed]",
      "text/plain": [
       "<Figure size 432x288 with 1 Axes>"
      ]
     },
     "metadata": {
      "needs_background": "light"
     },
     "output_type": "display_data"
    }
   ],
   "source": [
    "result3 = query(\"\"\"\n",
    "select `Age` from result\n",
    "group by `Age`\n",
    "\"\"\")\n",
    "result4 = query(\"\"\"\n",
    "select Age, count(predict) as `count` from result\n",
    "where predict = 0\n",
    "group by Age\n",
    "\"\"\")\n",
    "result5 = query(\"\"\"\n",
    "select Age, count(predict) as `count` from result\n",
    "where predict = 1\n",
    "group by Age\n",
    "\"\"\")\n",
    "education = DataFrame({'Age':result3['Age'],'Depressed': result5['count'],'Not_Depressed': result4['count']})\n",
    "education = education[0:3]\n",
    "education = education.set_index(\"Age\")\n",
    "graph = education.plot.barh(stacked = True)\n",
    "graph.set_xlabel(\"Count\")"
   ]
  },
  {
   "cell_type": "code",
   "execution_count": 131,
   "metadata": {},
   "outputs": [
    {
     "data": {
      "text/plain": [
       "<AxesSubplot:ylabel='Region'>"
      ]
     },
     "execution_count": 131,
     "metadata": {},
     "output_type": "execute_result"
    },
    {
     "data": {
      "image/png": "[encoded data removed]",
      "text/plain": [
       "<Figure size 432x288 with 1 Axes>"
      ]
     },
     "metadata": {
      "needs_background": "light"
     },
     "output_type": "display_data"
    }
   ],
   "source": [
    "result7 = query(\"\"\"\n",
    "select `Region`, count(Depression) from train\n",
    "where Depression = 1\n",
    "group by `Region`\n",
    "\"\"\")\n",
    "result7 = result7.set_index(result7['Region'])\n",
    "result7.plot.barh()"
   ]
  },
  {
   "cell_type": "code",
   "execution_count": 134,
   "metadata": {},
   "outputs": [
    {
     "data": {
      "text/plain": [
       "Text(0.5, 0, 'Count')"
      ]
     },
     "execution_count": 134,
     "metadata": {},
     "output_type": "execute_result"
    },
    {
     "data": {
      "image/png": "[encoded data removed]",
      "text/plain": [
       "<Figure size 432x288 with 1 Axes>"
      ]
     },
     "metadata": {
      "needs_background": "light"
     },
     "output_type": "display_data"
    }
   ],
   "source": [
    "result3 = query(\"\"\"\n",
    "select `Region` from result\n",
    "group by `Region`\n",
    "\"\"\")\n",
    "result4 = query(\"\"\"\n",
    "select Region, count(predict) as `count` from result\n",
    "where predict = 0\n",
    "group by Region\n",
    "\"\"\")\n",
    "result5 = query(\"\"\"\n",
    "select Region, count(predict) as `count` from result\n",
    "where predict = 1\n",
    "group by Region\n",
    "\"\"\")\n",
    "education = DataFrame({'Region':result3['Region'],'Depressed': result5['count'],'Not_Depressed': result4['count']})\n",
    "education = education[0:8]\n",
    "education = education.set_index(\"Region\")\n",
    "graph = education.plot.barh(stacked = True)\n",
    "graph.set_xlabel(\"Count\")"
   ]
  },
  {
   "cell_type": "code",
   "execution_count": 142,
   "metadata": {},
   "outputs": [
    {
     "data": {
      "text/plain": [
       "<AxesSubplot:ylabel='Household.Income'>"
      ]
     },
     "execution_count": 142,
     "metadata": {},
     "output_type": "execute_result"
    },
    {
     "data": {
      "image/png": "[encoded data removed]",
      "text/plain": [
       "<Figure size 432x288 with 1 Axes>"
      ]
     },
     "metadata": {
      "needs_background": "light"
     },
     "output_type": "display_data"
    }
   ],
   "source": [
    "result7 = query(\"\"\"\n",
    "select `Household.Income`, count(Depression) from train\n",
    "where Depression = 1\n",
    "group by `Household.Income`\n",
    "\"\"\")\n",
    "result7 = result7.set_index(result7['Household.Income'])\n",
    "result7.plot.barh()"
   ]
  },
  {
   "cell_type": "code",
   "execution_count": 141,
   "metadata": {},
   "outputs": [
    {
     "data": {
      "text/plain": [
       "Text(0.5, 0, 'Count')"
      ]
     },
     "execution_count": 141,
     "metadata": {},
     "output_type": "execute_result"
    },
    {
     "data": {
      "image/png": "[encoded data removed]",
      "text/plain": [
       "<Figure size 432x288 with 1 Axes>"
      ]
     },
     "metadata": {
      "needs_background": "light"
     },
     "output_type": "display_data"
    }
   ],
   "source": [
    "result3 = query(\"\"\"\n",
    "select `Household.Income` from result\n",
    "group by `Household.Income`\n",
    "\"\"\")\n",
    "result4 = query(\"\"\"\n",
    "select `Household.Income`, count(predict) as `count` from result\n",
    "where predict = 0\n",
    "group by `Household.Income`\n",
    "\"\"\")\n",
    "result5 = query(\"\"\"\n",
    "select `Household.Income`, count(predict) as `count` from result\n",
    "where predict = 1\n",
    "group by `Household.Income`\n",
    "\"\"\")\n",
    "education = DataFrame({'Household.Income':result3['Household.Income'],'Depressed': result5['count'],'Not_Depressed': result4['count']})\n",
    "\n",
    "education = education[0:7]\n",
    "education = education.set_index(\"Household.Income\")\n",
    "graph = education.plot.barh(stacked = True)\n",
    "graph.set_xlabel(\"Count\")"
   ]
  },
  {
   "cell_type": "code",
   "execution_count": 144,
   "metadata": {},
   "outputs": [
    {
     "data": {
      "text/plain": [
       "<AxesSubplot:ylabel='Gender'>"
      ]
     },
     "execution_count": 144,
     "metadata": {},
     "output_type": "execute_result"
    },
    {
     "data": {
      "image/png": "[encoded data removed]",
      "text/plain": [
       "<Figure size 432x288 with 1 Axes>"
      ]
     },
     "metadata": {
      "needs_background": "light"
     },
     "output_type": "display_data"
    }
   ],
   "source": [
    "result7 = query(\"\"\"\n",
    "select `Gender`, count(Depression) from train\n",
    "where Depression = 1\n",
    "group by `Gender`\n",
    "\"\"\")\n",
    "result7 = result7.set_index(result7['Gender'])\n",
    "result7.plot.barh()"
   ]
  },
  {
   "cell_type": "code",
   "execution_count": 145,
   "metadata": {},
   "outputs": [
    {
     "data": {
      "text/plain": [
       "Text(0.5, 0, 'Count')"
      ]
     },
     "execution_count": 145,
     "metadata": {},
     "output_type": "execute_result"
    },
    {
     "data": {
      "image/png": "[encoded data removed]",
      "text/plain": [
       "<Figure size 432x288 with 1 Axes>"
      ]
     },
     "metadata": {
      "needs_background": "light"
     },
     "output_type": "display_data"
    }
   ],
   "source": [
    "result3 = query(\"\"\"\n",
    "select `Gender` from result\n",
    "group by `Gender`\n",
    "\"\"\")\n",
    "result4 = query(\"\"\"\n",
    "select `Gender`, count(predict) as `count` from result\n",
    "where predict = 0\n",
    "group by `Gender`\n",
    "\"\"\")\n",
    "result5 = query(\"\"\"\n",
    "select `Gender`, count(predict) as `count` from result\n",
    "where predict = 1\n",
    "group by `Gender`\n",
    "\"\"\")\n",
    "education = DataFrame({'Gender':result3['Gender'],'Depressed': result5['count'],'Not_Depressed': result4['count']})\n",
    "\n",
    "education = education[0:7]\n",
    "education = education.set_index(\"Gender\")\n",
    "graph = education.plot.barh(stacked = True)\n",
    "graph.set_xlabel(\"Count\")"
   ]
  },
  {
   "cell_type": "code",
   "execution_count": null,
   "metadata": {},
   "outputs": [],
   "source": []
  }
 ],
 "metadata": {
  "kernelspec": {
   "display_name": "Python 3",
   "language": "python",
   "name": "python3"
  },
  "language_info": {
   "codemirror_mode": {
    "name": "ipython",
    "version": 3
   },
   "file_extension": ".py",
   "mimetype": "text/x-python",
   "name": "python",
   "nbconvert_exporter": "python",
   "pygments_lexer": "ipython3",
   "version": "3.8.5"
  }
 },
 "nbformat": 4,
 "nbformat_minor": 4
}
